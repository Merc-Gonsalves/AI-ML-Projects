{
  "cells": [
    {
      "cell_type": "code",
      "execution_count": null,
      "id": "0eccd20e",
      "metadata": {
        "id": "0eccd20e"
      },
      "outputs": [],
      "source": [
        "from langchain_groq import ChatGroq"
      ]
    },
    {
      "cell_type": "code",
      "execution_count": null,
      "id": "c16ff50e",
      "metadata": {
        "colab": {
          "base_uri": "https://localhost:8080/"
        },
        "id": "c16ff50e",
        "outputId": "bf98d499-97a1-4766-e421-6590ca661d96"
      },
      "outputs": [
        {
          "name": "stdout",
          "output_type": "stream",
          "text": [
            "The first person to land on the moon was Neil Armstrong. He stepped onto the lunar surface on July 20, 1969, as part of the Apollo 11 mission.\n"
          ]
        }
      ],
      "source": [
        "llm = ChatGroq(\n",
        "    temperature=0,\n",
        "    groq_api_key='API_KEY',\n",
        "    model_name=\"llama-3.1-70b-versatile\"\n",
        ")\n",
        "response = llm.invoke(\"The first person to land on moon was ...\")\n",
        "print(response.content)"
      ]
    },
    {
      "cell_type": "code",
      "execution_count": null,
      "id": "90d33612",
      "metadata": {
        "colab": {
          "base_uri": "https://localhost:8080/",
          "height": 191
        },
        "id": "90d33612",
        "outputId": "ca7b1b59-8252-45ad-bb4d-9388da62e95f"
      },
      "outputs": [
        {
          "data": {
            "application/vnd.google.colaboratory.intrinsic+json": {
              "type": "string"
            },
            "text/plain": [
              "\"\\n\\n\\n\\n\\n\\n\\n\\n\\nAIML Intern - Careers at Apple\\n\\n\\n\\n\\n\\n\\n\\nAppleStoreMaciPadiPhoneWatchVisionAirPodsTV & HomeEntertainmentAccessoriesSupport\\n\\n\\n0+\\nCareers at AppleOpen MenuClose Menu\\n\\n      Work at Apple\\n    \\n \\n\\n      Life at Apple\\n    \\n \\n\\n      Profile\\n    \\n \\n\\n      Sign In\\n    \\n \\nSearch\\nJobs at Apple\\nAIML InternShanghai, Shanghai, ChinaHardwareAdd to Favorites AIML InternRemoved from favoritesAdd a favoriteCloseTo view your favorites, sign in with your Apple ID.Sign InDon’t have an Apple ID?Create one nowForgot your Apple ID or password?Submit ResumeAIML InternBack to search resultsSummaryPosted: Oct 22, 2024Weekly Hours: 40 Role Number:200569946At Apple, our team doesn't just build products; they create the kind of wonder that has revolutionized entire industries. It’s the diversity of our people and their ideas that drives the innovation central to everything we do—from remarkable technology to industry-leading environmental efforts. Join Apple and contribute to leaving the world better than we found it.\\n\\nThis role provides an exceptional opportunity to gain hands-on experience working on innovative projects that enhance the reliability and performance of Apple's products through advanced AI and ML applications. With access to all necessary resources, you'll push the boundaries of what’s possible and achieve the best work of your life.\\nDescriptionDescriptionAs an AIML intern in the Failure Analysis team, you will work closely with engineers, data scientists, and cross-functional teams to develop and implement AI and ML solutions aimed at identifying, diagnosing, and predicting product failures. You will be actively involved in various stages of the ML pipeline, from data collection and preprocessing, through exploratory data analysis and feature engineering, to model training, validation, and deployment. \\n\\nResponsibilities include:\\n\\n-  Collaborate with team members to understand failure analysis challenges and translate them into actionable technical solutions.\\n\\n-  Develop and deploy machine learning models and algorithms to diagnose and predict product failures.\\n\\n-  Perform data analysis and visualization to extract actionable insights.\\n\\n-  Test, validate, and optimize models to ensure high performance and reliability.\\n\\n-  Document model development processes and findings, presenting results to stakeholders.\\n\\n-  Stay informed about the latest advancements in AIML technologies and apply them to ongoing projects.Minimum QualificationsMinimum QualificationsBachelor degree in Computer Science, Automation Engineering, Electrical Engineering, etc.Strong programming skills in Python, or a similar language.Experience in data analysis and machine learning, with proficiency in libraries such as TensorFlow, PyTorch, Scikit-Learn, etc.Solid understanding of statistical methods and algorithms.Excellent problem-solving skills and critical thinking abilities.Strong communication skills, with the ability to explain complex technical concepts clearly and concisely.Experience or coursework in computer vision or natural language processing (NLP) models.Key QualificationsKey QualificationsPreferred QualificationsPreferred QualificationsKnowledge of hardware or software components and understanding of common failure modes.Proficiency in using data visualization tools such as Tableau, PowerBI, or similar.Experience in developing and deploying computer vision models or language models (e.g., BERT, GPT).Knowledge of databases and proficiency in SQL or similar query languages.Understanding of TLS (Transport Layer Security) connections and their application in securing data transmission.Passion for staying at the forefront of AIML advancements and innovations.Apple is an equal opportunity employer that is committed to inclusion and diversity, and thus we treat all applicants fairly and equally. Apple is committed to working with and providing reasonable accommodation to applicants with physical and mental disabilities.Education & ExperienceEducation & ExperienceAdditional RequirementsAdditional RequirementsMoreSubmit ResumeAIML InternBack to search resultsAdd to Favorites AIML InternRemoved from favoritesAdd a favoriteCloseTo view your favorites, sign in with your Apple ID.Sign InDon’t have an Apple ID?Create one nowForgot your Apple ID or password?See all roles in  Shanghai  \\nApple FooterApple is an equal opportunity employer that is committed to inclusion and diversity. We take affirmative action to ensure equal opportunity for all applicants without regard to race, color, religion, sex, sexual orientation, gender identity, national origin, disability, Veteran status, or other legally protected characteristics. Learn more about your EEO rights as an applicant (Opens in a new window) .Apple will not discriminate or retaliate against applicants who inquire about, disclose, or discuss their compensation or that of other applicants.  United States Department of Labor. Learn more (Opens in a new window) .Apple will consider for employment all qualified applicants with criminal histories in a manner consistent with applicable law. If you’re applying for a position in San Francisco, review the  San Francisco Fair Chance Ordinance guidelines (opens in a new window)  applicable in your area.Apple participates in the E-Verify program in certain locations as required by law.\\xa0Learn more about the E-Verify program (Opens in a new window) .Apple is committed to working with and providing reasonable accommodation to applicants with physical and mental disabilities.  Reasonable Accommodation and Drug Free Workplace policyLearn more (Opens in a new window) .Apple is a drug-free workplace.\\xa0 Reasonable Accommodation and Drug Free Workplace policyLearn more (Opens in a new window) .\\uf8ffAppleCareers at AppleCareers at AppleShop and LearnShop and LearnStoreMaciPadiPhoneWatchVisionAirPodsTV & HomeAirTagAccessoriesGift CardsApple WalletApple WalletWalletApple\\xa0CardApple\\xa0PayApple\\xa0CashAccountAccountManage Your Apple\\xa0IDApple Store AccountiCloud.comEntertainmentEntertainmentApple\\xa0OneApple\\xa0TV+Apple\\xa0MusicApple\\xa0ArcadeApple\\xa0Fitness+Apple\\xa0News+Apple PodcastsApple\\xa0BooksApp\\xa0StoreApple StoreApple StoreFind a StoreGenius BarToday at AppleGroup ReservationsApple CampApple Store AppCertified RefurbishedApple\\xa0Trade\\xa0InFinancingCarrier Deals at AppleOrder StatusShopping HelpFor BusinessFor BusinessApple and BusinessShop for BusinessFor EducationFor EducationApple and EducationShop for K-12Shop for CollegeFor HealthcareFor HealthcareApple in HealthcareHealth on Apple\\xa0WatchHealth Records on iPhoneFor GovernmentFor GovernmentShop for GovernmentShop for Veterans and MilitaryApple ValuesApple ValuesAccessibilityEducationEnvironmentInclusion and DiversityPrivacyRacial Equity and JusticeSupply ChainAbout AppleAbout AppleNewsroomApple LeadershipCareer OpportunitiesInvestorsEthics & ComplianceEventsContact Apple\\nMore ways to shop: Find an Apple Store or other retailer near you. Or call 1-800-MY-APPLE.United StatesCopyright © 2024 Apple Inc. All rights reserved.Privacy PolicyTerms of UseSales and RefundsLegalSite Map\\n\\n\\n\\n\\n\\n\\n\\n\\n\\n\\n\""
            ]
          },
          "execution_count": 39,
          "metadata": {},
          "output_type": "execute_result"
        }
      ],
      "source": [
        "from langchain_community.document_loaders import WebBaseLoader\n",
        "\n",
        "loader = WebBaseLoader(\"https://jobs.apple.com/en-us/details/200569946/aiml-intern?team=STDNT\")\n",
        "page_data = loader.load().pop().page_content\n",
        "page_data"
      ]
    },
    {
      "cell_type": "code",
      "execution_count": null,
      "id": "85c89a57",
      "metadata": {
        "colab": {
          "base_uri": "https://localhost:8080/"
        },
        "id": "85c89a57",
        "outputId": "55b299ac-a37d-43e7-f834-ff4c46aba30f"
      },
      "outputs": [
        {
          "name": "stdout",
          "output_type": "stream",
          "text": [
            "```json\n",
            "{\n",
            "  \"role\": \"AIML Intern\",\n",
            "  \"experience\": \"Bachelor degree in Computer Science, Automation Engineering, Electrical Engineering, etc.\",\n",
            "  \"skills\": [\n",
            "    \"Strong programming skills in Python, or a similar language\",\n",
            "    \"Experience in data analysis and machine learning, with proficiency in libraries such as TensorFlow, PyTorch, Scikit-Learn, etc.\",\n",
            "    \"Solid understanding of statistical methods and algorithms\",\n",
            "    \"Excellent problem-solving skills and critical thinking abilities\",\n",
            "    \"Strong communication skills, with the ability to explain complex technical concepts clearly and concisely\",\n",
            "    \"Experience or coursework in computer vision or natural language processing (NLP) models\"\n",
            "  ],\n",
            "  \"description\": \"This role provides an exceptional opportunity to gain hands-on experience working on innovative projects that enhance the reliability and performance of Apple's products through advanced AI and ML applications. With access to all necessary resources, you'll push the boundaries of what’s possible and achieve the best work of your life.\"\n",
            "}\n",
            "```\n"
          ]
        }
      ],
      "source": [
        "from langchain_core.prompts import PromptTemplate\n",
        "\n",
        "prompt_extract = PromptTemplate.from_template(\n",
        "        \"\"\"\n",
        "        ### SCRAPED TEXT FROM WEBSITE:\n",
        "        {page_data}\n",
        "        ### INSTRUCTION:\n",
        "        The scraped text is from the career's page of a website.\n",
        "        Your job is to extract the job postings and return them in JSON format containing the\n",
        "        following keys: `role`, `experience`, `skills` and `description`.\n",
        "        Only return the valid JSON.\n",
        "        ### VALID JSON (NO PREAMBLE):\n",
        "        \"\"\"\n",
        ")\n",
        "\n",
        "chain_extract = prompt_extract | llm\n",
        "res = chain_extract.invoke(input={'page_data':page_data})\n",
        "print(res.content)"
      ]
    },
    {
      "cell_type": "code",
      "execution_count": null,
      "id": "5415fd54",
      "metadata": {
        "colab": {
          "base_uri": "https://localhost:8080/"
        },
        "id": "5415fd54",
        "outputId": "18d9be90-6286-44da-ad3e-4e4abb0e7618"
      },
      "outputs": [
        {
          "data": {
            "text/plain": [
              "{'role': 'AIML Intern',\n",
              " 'experience': 'Bachelor degree in Computer Science, Automation Engineering, Electrical Engineering, etc.',\n",
              " 'skills': ['Strong programming skills in Python, or a similar language',\n",
              "  'Experience in data analysis and machine learning, with proficiency in libraries such as TensorFlow, PyTorch, Scikit-Learn, etc.',\n",
              "  'Solid understanding of statistical methods and algorithms',\n",
              "  'Excellent problem-solving skills and critical thinking abilities',\n",
              "  'Strong communication skills, with the ability to explain complex technical concepts clearly and concisely',\n",
              "  'Experience or coursework in computer vision or natural language processing (NLP) models'],\n",
              " 'description': \"This role provides an exceptional opportunity to gain hands-on experience working on innovative projects that enhance the reliability and performance of Apple's products through advanced AI and ML applications. With access to all necessary resources, you'll push the boundaries of what’s possible and achieve the best work of your life.\"}"
            ]
          },
          "execution_count": 41,
          "metadata": {},
          "output_type": "execute_result"
        }
      ],
      "source": [
        "from langchain_core.output_parsers import JsonOutputParser\n",
        "\n",
        "json_parser = JsonOutputParser()\n",
        "json_res = json_parser.parse(res.content)\n",
        "json_res"
      ]
    },
    {
      "cell_type": "code",
      "execution_count": null,
      "id": "39961ed6",
      "metadata": {
        "colab": {
          "base_uri": "https://localhost:8080/"
        },
        "id": "39961ed6",
        "outputId": "d2e9132b-2019-4285-e24e-00063e55ab25"
      },
      "outputs": [
        {
          "data": {
            "text/plain": [
              "dict"
            ]
          },
          "execution_count": 42,
          "metadata": {},
          "output_type": "execute_result"
        }
      ],
      "source": [
        "type(json_res)"
      ]
    },
    {
      "cell_type": "code",
      "execution_count": null,
      "id": "1e8a0f74",
      "metadata": {
        "colab": {
          "base_uri": "https://localhost:8080/",
          "height": 676
        },
        "id": "1e8a0f74",
        "outputId": "5f34f433-d681-493d-dccc-55dfe4352f98"
      },
      "outputs": [
        {
          "data": {
            "application/vnd.google.colaboratory.intrinsic+json": {
              "summary": "{\n  \"name\": \"df\",\n  \"rows\": 20,\n  \"fields\": [\n    {\n      \"column\": \"Techstack\",\n      \"properties\": {\n        \"dtype\": \"string\",\n        \"num_unique_values\": 20,\n        \"samples\": [\n          \"Python, CNN, matplotlib, tensorflow, keras\",\n          \"Full-stack, JavaScript, Express.js\",\n          \"Backend, Kotlin, Spring Boot\"\n        ],\n        \"semantic_type\": \"\",\n        \"description\": \"\"\n      }\n    },\n    {\n      \"column\": \"Links\",\n      \"properties\": {\n        \"dtype\": \"string\",\n        \"num_unique_values\": 20,\n        \"samples\": [\n          \"https://github.com/Merc-Gonsalves/AI-Accident-Detection-System\",\n          \"https://example.com/full-stack-js-portfolio\",\n          \"https://example.com/kotlin-backend-portfolio\"\n        ],\n        \"semantic_type\": \"\",\n        \"description\": \"\"\n      }\n    }\n  ]\n}",
              "type": "dataframe",
              "variable_name": "df"
            },
            "text/html": [
              "\n",
              "  <div id=\"df-a71d8f35-43b8-4824-8fce-a9dae9cfba3f\" class=\"colab-df-container\">\n",
              "    <div>\n",
              "<style scoped>\n",
              "    .dataframe tbody tr th:only-of-type {\n",
              "        vertical-align: middle;\n",
              "    }\n",
              "\n",
              "    .dataframe tbody tr th {\n",
              "        vertical-align: top;\n",
              "    }\n",
              "\n",
              "    .dataframe thead th {\n",
              "        text-align: right;\n",
              "    }\n",
              "</style>\n",
              "<table border=\"1\" class=\"dataframe\">\n",
              "  <thead>\n",
              "    <tr style=\"text-align: right;\">\n",
              "      <th></th>\n",
              "      <th>Techstack</th>\n",
              "      <th>Links</th>\n",
              "    </tr>\n",
              "  </thead>\n",
              "  <tbody>\n",
              "    <tr>\n",
              "      <th>0</th>\n",
              "      <td>Python, CNN, matplotlib, tensorflow, keras</td>\n",
              "      <td>https://github.com/Merc-Gonsalves/AI-Accident-...</td>\n",
              "    </tr>\n",
              "    <tr>\n",
              "      <th>1</th>\n",
              "      <td>Python, textblob, newspaper3k, nltk, tkinter</td>\n",
              "      <td>https://github.com/Merc-Gonsalves/News-Summary</td>\n",
              "    </tr>\n",
              "    <tr>\n",
              "      <th>2</th>\n",
              "      <td>Python, mobilenetv2, tensorflow, matplotlib, o...</td>\n",
              "      <td>https://github.com/Merc-Gonsalves/Object-Detec...</td>\n",
              "    </tr>\n",
              "    <tr>\n",
              "      <th>3</th>\n",
              "      <td>Python, langchain, chromadb, gpt</td>\n",
              "      <td>https://github.com/Merc-Gonsalves/RAG-using-la...</td>\n",
              "    </tr>\n",
              "    <tr>\n",
              "      <th>4</th>\n",
              "      <td>Python, langchain, huggingface, arxiv, acceler...</td>\n",
              "      <td>https://github.com/Merc-Gonsalves/Research-pap...</td>\n",
              "    </tr>\n",
              "    <tr>\n",
              "      <th>5</th>\n",
              "      <td>Python, ultralytics, roboflow, yolo, ipython, ...</td>\n",
              "      <td>https://github.com/Merc-Gonsalves/Smoke-Fire-D...</td>\n",
              "    </tr>\n",
              "    <tr>\n",
              "      <th>6</th>\n",
              "      <td>Python, pytorch, trl, peft, datasets, transfor...</td>\n",
              "      <td>https://github.com/Merc-Gonsalves/AI-Doctor-Ch...</td>\n",
              "    </tr>\n",
              "    <tr>\n",
              "      <th>7</th>\n",
              "      <td>Python, Alpaca, backtesting, rest</td>\n",
              "      <td>https://github.com/Merc-Gonsalves/Stock-Trader...</td>\n",
              "    </tr>\n",
              "    <tr>\n",
              "      <th>8</th>\n",
              "      <td>HTML, CSS, javascript, php, react, webstream</td>\n",
              "      <td>https://github.com/Merc-Gonsalves/Final-Project</td>\n",
              "    </tr>\n",
              "    <tr>\n",
              "      <th>9</th>\n",
              "      <td>iOS, Swift, Core Data</td>\n",
              "      <td>https://example.com/ios-portfolio</td>\n",
              "    </tr>\n",
              "    <tr>\n",
              "      <th>10</th>\n",
              "      <td>Android, Java, Room Persistence</td>\n",
              "      <td>https://example.com/android-portfolio</td>\n",
              "    </tr>\n",
              "    <tr>\n",
              "      <th>11</th>\n",
              "      <td>Kotlin, Android, Firebase</td>\n",
              "      <td>https://example.com/kotlin-android-portfolio</td>\n",
              "    </tr>\n",
              "    <tr>\n",
              "      <th>12</th>\n",
              "      <td>Android TV, Kotlin, Android NDK</td>\n",
              "      <td>https://example.com/android-tv-portfolio</td>\n",
              "    </tr>\n",
              "    <tr>\n",
              "      <th>13</th>\n",
              "      <td>iOS, Swift, ARKit</td>\n",
              "      <td>https://example.com/ios-ar-portfolio</td>\n",
              "    </tr>\n",
              "    <tr>\n",
              "      <th>14</th>\n",
              "      <td>Cross-platform, Xamarin, Azure</td>\n",
              "      <td>https://example.com/xamarin-portfolio</td>\n",
              "    </tr>\n",
              "    <tr>\n",
              "      <th>15</th>\n",
              "      <td>Backend, Kotlin, Spring Boot</td>\n",
              "      <td>https://example.com/kotlin-backend-portfolio</td>\n",
              "    </tr>\n",
              "    <tr>\n",
              "      <th>16</th>\n",
              "      <td>Frontend, TypeScript, Angular</td>\n",
              "      <td>https://example.com/typescript-frontend-portfolio</td>\n",
              "    </tr>\n",
              "    <tr>\n",
              "      <th>17</th>\n",
              "      <td>Full-stack, JavaScript, Express.js</td>\n",
              "      <td>https://example.com/full-stack-js-portfolio</td>\n",
              "    </tr>\n",
              "    <tr>\n",
              "      <th>18</th>\n",
              "      <td>Machine Learning, Python, TensorFlow</td>\n",
              "      <td>https://example.com/ml-python-portfolio</td>\n",
              "    </tr>\n",
              "    <tr>\n",
              "      <th>19</th>\n",
              "      <td>DevOps, Jenkins, Docker</td>\n",
              "      <td>https://example.com/devops-portfolio</td>\n",
              "    </tr>\n",
              "  </tbody>\n",
              "</table>\n",
              "</div>\n",
              "    <div class=\"colab-df-buttons\">\n",
              "\n",
              "  <div class=\"colab-df-container\">\n",
              "    <button class=\"colab-df-convert\" onclick=\"convertToInteractive('df-a71d8f35-43b8-4824-8fce-a9dae9cfba3f')\"\n",
              "            title=\"Convert this dataframe to an interactive table.\"\n",
              "            style=\"display:none;\">\n",
              "\n",
              "  <svg xmlns=\"http://www.w3.org/2000/svg\" height=\"24px\" viewBox=\"0 -960 960 960\">\n",
              "    <path d=\"M120-120v-720h720v720H120Zm60-500h600v-160H180v160Zm220 220h160v-160H400v160Zm0 220h160v-160H400v160ZM180-400h160v-160H180v160Zm440 0h160v-160H620v160ZM180-180h160v-160H180v160Zm440 0h160v-160H620v160Z\"/>\n",
              "  </svg>\n",
              "    </button>\n",
              "\n",
              "  <style>\n",
              "    .colab-df-container {\n",
              "      display:flex;\n",
              "      gap: 12px;\n",
              "    }\n",
              "\n",
              "    .colab-df-convert {\n",
              "      background-color: #E8F0FE;\n",
              "      border: none;\n",
              "      border-radius: 50%;\n",
              "      cursor: pointer;\n",
              "      display: none;\n",
              "      fill: #1967D2;\n",
              "      height: 32px;\n",
              "      padding: 0 0 0 0;\n",
              "      width: 32px;\n",
              "    }\n",
              "\n",
              "    .colab-df-convert:hover {\n",
              "      background-color: #E2EBFA;\n",
              "      box-shadow: 0px 1px 2px rgba(60, 64, 67, 0.3), 0px 1px 3px 1px rgba(60, 64, 67, 0.15);\n",
              "      fill: #174EA6;\n",
              "    }\n",
              "\n",
              "    .colab-df-buttons div {\n",
              "      margin-bottom: 4px;\n",
              "    }\n",
              "\n",
              "    [theme=dark] .colab-df-convert {\n",
              "      background-color: #3B4455;\n",
              "      fill: #D2E3FC;\n",
              "    }\n",
              "\n",
              "    [theme=dark] .colab-df-convert:hover {\n",
              "      background-color: #434B5C;\n",
              "      box-shadow: 0px 1px 3px 1px rgba(0, 0, 0, 0.15);\n",
              "      filter: drop-shadow(0px 1px 2px rgba(0, 0, 0, 0.3));\n",
              "      fill: #FFFFFF;\n",
              "    }\n",
              "  </style>\n",
              "\n",
              "    <script>\n",
              "      const buttonEl =\n",
              "        document.querySelector('#df-a71d8f35-43b8-4824-8fce-a9dae9cfba3f button.colab-df-convert');\n",
              "      buttonEl.style.display =\n",
              "        google.colab.kernel.accessAllowed ? 'block' : 'none';\n",
              "\n",
              "      async function convertToInteractive(key) {\n",
              "        const element = document.querySelector('#df-a71d8f35-43b8-4824-8fce-a9dae9cfba3f');\n",
              "        const dataTable =\n",
              "          await google.colab.kernel.invokeFunction('convertToInteractive',\n",
              "                                                    [key], {});\n",
              "        if (!dataTable) return;\n",
              "\n",
              "        const docLinkHtml = 'Like what you see? Visit the ' +\n",
              "          '<a target=\"_blank\" href=https://colab.research.google.com/notebooks/data_table.ipynb>data table notebook</a>'\n",
              "          + ' to learn more about interactive tables.';\n",
              "        element.innerHTML = '';\n",
              "        dataTable['output_type'] = 'display_data';\n",
              "        await google.colab.output.renderOutput(dataTable, element);\n",
              "        const docLink = document.createElement('div');\n",
              "        docLink.innerHTML = docLinkHtml;\n",
              "        element.appendChild(docLink);\n",
              "      }\n",
              "    </script>\n",
              "  </div>\n",
              "\n",
              "\n",
              "<div id=\"df-b4f4f146-5a2a-4c6c-a462-aeda40c5590b\">\n",
              "  <button class=\"colab-df-quickchart\" onclick=\"quickchart('df-b4f4f146-5a2a-4c6c-a462-aeda40c5590b')\"\n",
              "            title=\"Suggest charts\"\n",
              "            style=\"display:none;\">\n",
              "\n",
              "<svg xmlns=\"http://www.w3.org/2000/svg\" height=\"24px\"viewBox=\"0 0 24 24\"\n",
              "     width=\"24px\">\n",
              "    <g>\n",
              "        <path d=\"M19 3H5c-1.1 0-2 .9-2 2v14c0 1.1.9 2 2 2h14c1.1 0 2-.9 2-2V5c0-1.1-.9-2-2-2zM9 17H7v-7h2v7zm4 0h-2V7h2v10zm4 0h-2v-4h2v4z\"/>\n",
              "    </g>\n",
              "</svg>\n",
              "  </button>\n",
              "\n",
              "<style>\n",
              "  .colab-df-quickchart {\n",
              "      --bg-color: #E8F0FE;\n",
              "      --fill-color: #1967D2;\n",
              "      --hover-bg-color: #E2EBFA;\n",
              "      --hover-fill-color: #174EA6;\n",
              "      --disabled-fill-color: #AAA;\n",
              "      --disabled-bg-color: #DDD;\n",
              "  }\n",
              "\n",
              "  [theme=dark] .colab-df-quickchart {\n",
              "      --bg-color: #3B4455;\n",
              "      --fill-color: #D2E3FC;\n",
              "      --hover-bg-color: #434B5C;\n",
              "      --hover-fill-color: #FFFFFF;\n",
              "      --disabled-bg-color: #3B4455;\n",
              "      --disabled-fill-color: #666;\n",
              "  }\n",
              "\n",
              "  .colab-df-quickchart {\n",
              "    background-color: var(--bg-color);\n",
              "    border: none;\n",
              "    border-radius: 50%;\n",
              "    cursor: pointer;\n",
              "    display: none;\n",
              "    fill: var(--fill-color);\n",
              "    height: 32px;\n",
              "    padding: 0;\n",
              "    width: 32px;\n",
              "  }\n",
              "\n",
              "  .colab-df-quickchart:hover {\n",
              "    background-color: var(--hover-bg-color);\n",
              "    box-shadow: 0 1px 2px rgba(60, 64, 67, 0.3), 0 1px 3px 1px rgba(60, 64, 67, 0.15);\n",
              "    fill: var(--button-hover-fill-color);\n",
              "  }\n",
              "\n",
              "  .colab-df-quickchart-complete:disabled,\n",
              "  .colab-df-quickchart-complete:disabled:hover {\n",
              "    background-color: var(--disabled-bg-color);\n",
              "    fill: var(--disabled-fill-color);\n",
              "    box-shadow: none;\n",
              "  }\n",
              "\n",
              "  .colab-df-spinner {\n",
              "    border: 2px solid var(--fill-color);\n",
              "    border-color: transparent;\n",
              "    border-bottom-color: var(--fill-color);\n",
              "    animation:\n",
              "      spin 1s steps(1) infinite;\n",
              "  }\n",
              "\n",
              "  @keyframes spin {\n",
              "    0% {\n",
              "      border-color: transparent;\n",
              "      border-bottom-color: var(--fill-color);\n",
              "      border-left-color: var(--fill-color);\n",
              "    }\n",
              "    20% {\n",
              "      border-color: transparent;\n",
              "      border-left-color: var(--fill-color);\n",
              "      border-top-color: var(--fill-color);\n",
              "    }\n",
              "    30% {\n",
              "      border-color: transparent;\n",
              "      border-left-color: var(--fill-color);\n",
              "      border-top-color: var(--fill-color);\n",
              "      border-right-color: var(--fill-color);\n",
              "    }\n",
              "    40% {\n",
              "      border-color: transparent;\n",
              "      border-right-color: var(--fill-color);\n",
              "      border-top-color: var(--fill-color);\n",
              "    }\n",
              "    60% {\n",
              "      border-color: transparent;\n",
              "      border-right-color: var(--fill-color);\n",
              "    }\n",
              "    80% {\n",
              "      border-color: transparent;\n",
              "      border-right-color: var(--fill-color);\n",
              "      border-bottom-color: var(--fill-color);\n",
              "    }\n",
              "    90% {\n",
              "      border-color: transparent;\n",
              "      border-bottom-color: var(--fill-color);\n",
              "    }\n",
              "  }\n",
              "</style>\n",
              "\n",
              "  <script>\n",
              "    async function quickchart(key) {\n",
              "      const quickchartButtonEl =\n",
              "        document.querySelector('#' + key + ' button');\n",
              "      quickchartButtonEl.disabled = true;  // To prevent multiple clicks.\n",
              "      quickchartButtonEl.classList.add('colab-df-spinner');\n",
              "      try {\n",
              "        const charts = await google.colab.kernel.invokeFunction(\n",
              "            'suggestCharts', [key], {});\n",
              "      } catch (error) {\n",
              "        console.error('Error during call to suggestCharts:', error);\n",
              "      }\n",
              "      quickchartButtonEl.classList.remove('colab-df-spinner');\n",
              "      quickchartButtonEl.classList.add('colab-df-quickchart-complete');\n",
              "    }\n",
              "    (() => {\n",
              "      let quickchartButtonEl =\n",
              "        document.querySelector('#df-b4f4f146-5a2a-4c6c-a462-aeda40c5590b button');\n",
              "      quickchartButtonEl.style.display =\n",
              "        google.colab.kernel.accessAllowed ? 'block' : 'none';\n",
              "    })();\n",
              "  </script>\n",
              "</div>\n",
              "\n",
              "  <div id=\"id_87fa1f30-5978-439c-a35c-d46f494be960\">\n",
              "    <style>\n",
              "      .colab-df-generate {\n",
              "        background-color: #E8F0FE;\n",
              "        border: none;\n",
              "        border-radius: 50%;\n",
              "        cursor: pointer;\n",
              "        display: none;\n",
              "        fill: #1967D2;\n",
              "        height: 32px;\n",
              "        padding: 0 0 0 0;\n",
              "        width: 32px;\n",
              "      }\n",
              "\n",
              "      .colab-df-generate:hover {\n",
              "        background-color: #E2EBFA;\n",
              "        box-shadow: 0px 1px 2px rgba(60, 64, 67, 0.3), 0px 1px 3px 1px rgba(60, 64, 67, 0.15);\n",
              "        fill: #174EA6;\n",
              "      }\n",
              "\n",
              "      [theme=dark] .colab-df-generate {\n",
              "        background-color: #3B4455;\n",
              "        fill: #D2E3FC;\n",
              "      }\n",
              "\n",
              "      [theme=dark] .colab-df-generate:hover {\n",
              "        background-color: #434B5C;\n",
              "        box-shadow: 0px 1px 3px 1px rgba(0, 0, 0, 0.15);\n",
              "        filter: drop-shadow(0px 1px 2px rgba(0, 0, 0, 0.3));\n",
              "        fill: #FFFFFF;\n",
              "      }\n",
              "    </style>\n",
              "    <button class=\"colab-df-generate\" onclick=\"generateWithVariable('df')\"\n",
              "            title=\"Generate code using this dataframe.\"\n",
              "            style=\"display:none;\">\n",
              "\n",
              "  <svg xmlns=\"http://www.w3.org/2000/svg\" height=\"24px\"viewBox=\"0 0 24 24\"\n",
              "       width=\"24px\">\n",
              "    <path d=\"M7,19H8.4L18.45,9,17,7.55,7,17.6ZM5,21V16.75L18.45,3.32a2,2,0,0,1,2.83,0l1.4,1.43a1.91,1.91,0,0,1,.58,1.4,1.91,1.91,0,0,1-.58,1.4L9.25,21ZM18.45,9,17,7.55Zm-12,3A5.31,5.31,0,0,0,4.9,8.1,5.31,5.31,0,0,0,1,6.5,5.31,5.31,0,0,0,4.9,4.9,5.31,5.31,0,0,0,6.5,1,5.31,5.31,0,0,0,8.1,4.9,5.31,5.31,0,0,0,12,6.5,5.46,5.46,0,0,0,6.5,12Z\"/>\n",
              "  </svg>\n",
              "    </button>\n",
              "    <script>\n",
              "      (() => {\n",
              "      const buttonEl =\n",
              "        document.querySelector('#id_87fa1f30-5978-439c-a35c-d46f494be960 button.colab-df-generate');\n",
              "      buttonEl.style.display =\n",
              "        google.colab.kernel.accessAllowed ? 'block' : 'none';\n",
              "\n",
              "      buttonEl.onclick = () => {\n",
              "        google.colab.notebook.generateWithVariable('df');\n",
              "      }\n",
              "      })();\n",
              "    </script>\n",
              "  </div>\n",
              "\n",
              "    </div>\n",
              "  </div>\n"
            ],
            "text/plain": [
              "                                            Techstack  \\\n",
              "0          Python, CNN, matplotlib, tensorflow, keras   \n",
              "1        Python, textblob, newspaper3k, nltk, tkinter   \n",
              "2   Python, mobilenetv2, tensorflow, matplotlib, o...   \n",
              "3                    Python, langchain, chromadb, gpt   \n",
              "4   Python, langchain, huggingface, arxiv, acceler...   \n",
              "5   Python, ultralytics, roboflow, yolo, ipython, ...   \n",
              "6   Python, pytorch, trl, peft, datasets, transfor...   \n",
              "7                   Python, Alpaca, backtesting, rest   \n",
              "8        HTML, CSS, javascript, php, react, webstream   \n",
              "9                               iOS, Swift, Core Data   \n",
              "10                    Android, Java, Room Persistence   \n",
              "11                          Kotlin, Android, Firebase   \n",
              "12                    Android TV, Kotlin, Android NDK   \n",
              "13                                  iOS, Swift, ARKit   \n",
              "14                     Cross-platform, Xamarin, Azure   \n",
              "15                       Backend, Kotlin, Spring Boot   \n",
              "16                      Frontend, TypeScript, Angular   \n",
              "17                 Full-stack, JavaScript, Express.js   \n",
              "18               Machine Learning, Python, TensorFlow   \n",
              "19                            DevOps, Jenkins, Docker   \n",
              "\n",
              "                                                Links  \n",
              "0   https://github.com/Merc-Gonsalves/AI-Accident-...  \n",
              "1      https://github.com/Merc-Gonsalves/News-Summary  \n",
              "2   https://github.com/Merc-Gonsalves/Object-Detec...  \n",
              "3   https://github.com/Merc-Gonsalves/RAG-using-la...  \n",
              "4   https://github.com/Merc-Gonsalves/Research-pap...  \n",
              "5   https://github.com/Merc-Gonsalves/Smoke-Fire-D...  \n",
              "6   https://github.com/Merc-Gonsalves/AI-Doctor-Ch...  \n",
              "7   https://github.com/Merc-Gonsalves/Stock-Trader...  \n",
              "8     https://github.com/Merc-Gonsalves/Final-Project  \n",
              "9                   https://example.com/ios-portfolio  \n",
              "10              https://example.com/android-portfolio  \n",
              "11       https://example.com/kotlin-android-portfolio  \n",
              "12           https://example.com/android-tv-portfolio  \n",
              "13               https://example.com/ios-ar-portfolio  \n",
              "14              https://example.com/xamarin-portfolio  \n",
              "15       https://example.com/kotlin-backend-portfolio  \n",
              "16  https://example.com/typescript-frontend-portfolio  \n",
              "17        https://example.com/full-stack-js-portfolio  \n",
              "18            https://example.com/ml-python-portfolio  \n",
              "19               https://example.com/devops-portfolio  "
            ]
          },
          "execution_count": 43,
          "metadata": {},
          "output_type": "execute_result"
        }
      ],
      "source": [
        "import pandas as pd\n",
        "\n",
        "df = pd.read_csv(\"/content/my_portfolio.csv\")\n",
        "df"
      ]
    },
    {
      "cell_type": "code",
      "execution_count": null,
      "id": "f7e888d4",
      "metadata": {
        "id": "f7e888d4"
      },
      "outputs": [],
      "source": [
        "import uuid\n",
        "import chromadb\n",
        "\n",
        "client = chromadb.PersistentClient('vectorstore')\n",
        "collection = client.get_or_create_collection(name=\"portfolio\")\n",
        "\n",
        "if not collection.count():\n",
        "    for _, row in df.iterrows():\n",
        "        collection.add(documents=row[\"Techstack\"],\n",
        "                       metadatas={\"links\": row[\"Links\"]},\n",
        "                       ids=[str(uuid.uuid4())])"
      ]
    },
    {
      "cell_type": "code",
      "execution_count": null,
      "id": "39ad2fa2",
      "metadata": {
        "colab": {
          "base_uri": "https://localhost:8080/"
        },
        "id": "39ad2fa2",
        "outputId": "6bf196ac-29ce-400d-c47c-4b9325b16a22"
      },
      "outputs": [
        {
          "data": {
            "text/plain": [
              "[[{'links': 'https://example.com/ml-python-portfolio'},\n",
              "  {'links': 'https://example.com/python-portfolio'}],\n",
              " [{'links': 'https://example.com/ml-python-portfolio'},\n",
              "  {'links': 'https://example.com/python-portfolio'}],\n",
              " [{'links': 'https://example.com/ml-python-portfolio'},\n",
              "  {'links': 'https://example.com/magento-portfolio'}],\n",
              " [{'links': 'https://example.com/ml-python-portfolio'},\n",
              "  {'links': 'https://example.com/python-portfolio'}],\n",
              " [{'links': 'https://example.com/ml-python-portfolio'},\n",
              "  {'links': 'https://example.com/full-stack-js-portfolio'}],\n",
              " [{'links': 'https://example.com/ml-python-portfolio'},\n",
              "  {'links': 'https://example.com/python-portfolio'}]]"
            ]
          },
          "execution_count": 48,
          "metadata": {},
          "output_type": "execute_result"
        }
      ],
      "source": [
        "links = collection.query(query_texts=job['skills'], n_results=2).get('metadatas', [])\n",
        "links"
      ]
    },
    {
      "cell_type": "code",
      "execution_count": null,
      "id": "8bd36844",
      "metadata": {
        "colab": {
          "base_uri": "https://localhost:8080/"
        },
        "id": "8bd36844",
        "outputId": "5a432738-4078-45e0-ce97-d1cdd87a7390"
      },
      "outputs": [
        {
          "data": {
            "text/plain": [
              "{'role': 'AIML Intern',\n",
              " 'experience': 'Bachelor degree in Computer Science, Automation Engineering, Electrical Engineering, etc.',\n",
              " 'skills': ['Strong programming skills in Python, or a similar language',\n",
              "  'Experience in data analysis and machine learning, with proficiency in libraries such as TensorFlow, PyTorch, Scikit-Learn, etc.',\n",
              "  'Solid understanding of statistical methods and algorithms',\n",
              "  'Excellent problem-solving skills and critical thinking abilities',\n",
              "  'Strong communication skills, with the ability to explain complex technical concepts clearly and concisely',\n",
              "  'Experience or coursework in computer vision or natural language processing (NLP) models'],\n",
              " 'description': \"This role provides an exceptional opportunity to gain hands-on experience working on innovative projects that enhance the reliability and performance of Apple's products through advanced AI and ML applications. With access to all necessary resources, you'll push the boundaries of what’s possible and achieve the best work of your life.\"}"
            ]
          },
          "execution_count": 47,
          "metadata": {},
          "output_type": "execute_result"
        }
      ],
      "source": [
        "job"
      ]
    },
    {
      "cell_type": "code",
      "execution_count": null,
      "id": "1ccfd720",
      "metadata": {
        "colab": {
          "base_uri": "https://localhost:8080/"
        },
        "id": "1ccfd720",
        "outputId": "076383c8-3eae-4a1a-ca26-e1869a814a2a",
        "scrolled": false
      },
      "outputs": [
        {
          "data": {
            "text/plain": [
              "['Strong programming skills in Python, or a similar language',\n",
              " 'Experience in data analysis and machine learning, with proficiency in libraries such as TensorFlow, PyTorch, Scikit-Learn, etc.',\n",
              " 'Solid understanding of statistical methods and algorithms',\n",
              " 'Excellent problem-solving skills and critical thinking abilities',\n",
              " 'Strong communication skills, with the ability to explain complex technical concepts clearly and concisely',\n",
              " 'Experience or coursework in computer vision or natural language processing (NLP) models']"
            ]
          },
          "execution_count": 46,
          "metadata": {},
          "output_type": "execute_result"
        }
      ],
      "source": [
        "job = json_res\n",
        "job['skills']"
      ]
    },
    {
      "cell_type": "code",
      "execution_count": null,
      "id": "64a97dd2",
      "metadata": {
        "colab": {
          "base_uri": "https://localhost:8080/"
        },
        "id": "64a97dd2",
        "outputId": "ba125fa4-14a2-4590-e7cd-6a69a08558ff"
      },
      "outputs": [
        {
          "name": "stdout",
          "output_type": "stream",
          "text": [
            "Subject: Application for AIML Intern Role at Apple\n",
            "\n",
            "Dear Hiring Manager,\n",
            "\n",
            "I am excited to apply for the AIML Intern role at Apple, as advertised. With a strong foundation in computer science and a passion for artificial intelligence and machine learning, I am confident that I can make a valuable contribution to your team.\n",
            "\n",
            "As a recent graduate in Computer Science, I have developed a solid understanding of statistical methods and algorithms, as well as excellent problem-solving skills and critical thinking abilities. My experience as an AI intern at Corizo and Hackveda has provided me with hands-on experience in data analysis and machine learning, with proficiency in libraries such as TensorFlow, PyTorch, and Scikit-Learn.\n",
            "\n",
            "I would like to highlight my capabilities in fulfilling your needs through my previous projects, which can be found on my GitHub page: https://github.com/Merc-Gonsalves. Some of my most relevant projects include:\n",
            "\n",
            "* Machine Learning with Python: https://example.com/ml-python-portfolio\n",
            "* Python Portfolio: https://example.com/python-portfolio\n",
            "\n",
            "These projects demonstrate my ability to work with machine learning algorithms, data analysis, and programming languages such as Python. I am confident that my skills and experience make me a strong fit for this role.\n",
            "\n",
            "I am particularly drawn to this role at Apple because of the opportunity to work on innovative projects that enhance the reliability and performance of Apple's products through advanced AI and ML applications. I am excited about the prospect of pushing the boundaries of what's possible and achieving the best work of my life.\n",
            "\n",
            "Thank you for considering my application. I would welcome the opportunity to discuss my qualifications further and explain in greater detail why I am the ideal candidate for this role.\n",
            "\n",
            "Best regards,\n",
            "\n",
            "Merc Gonsalves\n"
          ]
        }
      ],
      "source": [
        "prompt_email = PromptTemplate.from_template(\n",
        "        \"\"\"\n",
        "        ### JOB DESCRIPTION:\n",
        "        {job_desc}\n",
        "\n",
        "        ### INSTRUCTION:\n",
        "        You are Merc Gonsalves who is a fresher with a bachelors degree in computer science.\n",
        "        Here is the github link with all your projects: https://github.com/Merc-Gonsalves\n",
        "        you have 3 months of experience as an AI intern at Corizo and another 3 months as an AI intern at Hackveda\n",
        "        Your job is to write a cold email to the client regarding the job mentioned above describing the capability of AtliQ\n",
        "        in fulfilling their needs.\n",
        "        Also add the most relevant ones from the following links to showcase my portfolio: {link_list}\n",
        "        Remember you are Merc Gonsalves, fresher with a bachelors degree in computer science.\n",
        "        Do not provide a preamble.\n",
        "        ### EMAIL (NO PREAMBLE):\n",
        "\n",
        "        \"\"\"\n",
        "        )\n",
        "\n",
        "chain_email = prompt_email | llm\n",
        "res = chain_email.invoke({\"job_desc\": str(job), \"link_list\": links})\n",
        "print(res.content)"
      ]
    }
  ],
  "metadata": {
    "colab": {
      "provenance": []
    },
    "kernelspec": {
      "display_name": "Python 3 (ipykernel)",
      "language": "python",
      "name": "python3"
    },
    "language_info": {
      "codemirror_mode": {
        "name": "ipython",
        "version": 3
      },
      "file_extension": ".py",
      "mimetype": "text/x-python",
      "name": "python",
      "nbconvert_exporter": "python",
      "pygments_lexer": "ipython3",
      "version": "3.10.11"
    }
  },
  "nbformat": 4,
  "nbformat_minor": 5
}
