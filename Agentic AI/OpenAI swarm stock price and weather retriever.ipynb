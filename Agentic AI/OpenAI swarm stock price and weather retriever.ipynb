{
 "cells": [
  {
   "cell_type": "code",
   "execution_count": 12,
   "metadata": {},
   "outputs": [],
   "source": [
    "import os\n",
    "import requests\n",
    "from swarm import Swarm, Agent\n",
    "import yfinance as yf"
   ]
  },
  {
   "cell_type": "code",
   "execution_count": 3,
   "metadata": {},
   "outputs": [],
   "source": [
    "client = Swarm()\n",
    "API_KEY = os.getenv('OPENWEATHER_API_KEY')"
   ]
  },
  {
   "cell_type": "code",
   "execution_count": 4,
   "metadata": {},
   "outputs": [],
   "source": [
    "BASE_URL = 'https://api.openweathermap.org/data/2.5/weather'"
   ]
  },
  {
   "cell_type": "code",
   "execution_count": 5,
   "metadata": {},
   "outputs": [],
   "source": [
    "def weather(location):\n",
    "    print(f'Finding weather for {location}.')\n",
    "    \n",
    "    params = {\n",
    "        'q': location,\n",
    "        'appid': API_KEY,\n",
    "        'units': 'metric'\n",
    "    }\n",
    "    response = requests.get(BASE_URL, params)\n",
    "    data = response.json()\n",
    "    \n",
    "    if response.status_code == 200:\n",
    "        temp = data['main']['temp']\n",
    "        desc = data['weather'][0]['description']\n",
    "        city = data['name']\n",
    "        return f'In {city}, currently the weather is {temp} degrees celcius with {desc}'\n",
    "    else:\n",
    "        return f\"Could not get the weather for {location}. Please try again.\""
   ]
  },
  {
   "cell_type": "code",
   "execution_count": 13,
   "metadata": {},
   "outputs": [],
   "source": [
    "def stock_price(ticker):\n",
    "    print(f'Retrieving stock price for {ticker}')\n",
    "    stock = yf.Ticker(ticker)\n",
    "    stock_info = stock.history(period='1d')\n",
    "    if not stock_info.empty:\n",
    "        latest_price = stock_info['Close'].iloc[-1]\n",
    "        return f\"The latest stock price for {ticker} is {latest_price}\"\n",
    "    else:\n",
    "        return f\"Could not retrieve stock price for {ticker}\""
   ]
  },
  {
   "cell_type": "code",
   "execution_count": 6,
   "metadata": {},
   "outputs": [],
   "source": [
    "def transfer_to_weather_agent():\n",
    "    print(\"Transferring you to weather agent...\")\n",
    "    return weather_agent"
   ]
  },
  {
   "cell_type": "code",
   "execution_count": 14,
   "metadata": {},
   "outputs": [],
   "source": [
    "def transfer_to_stock_agent():\n",
    "    print(\"Transferring you to stock agent...\")\n",
    "    return stock_agent"
   ]
  },
  {
   "cell_type": "code",
   "execution_count": 16,
   "metadata": {},
   "outputs": [],
   "source": [
    "manager_agent = Agent(\n",
    "    name = 'Manager Assistant',\n",
    "    instructions = 'You help users by directing them to the appropriate assistant',\n",
    "    functions = [transfer_to_weather_agent, transfer_to_stock_agent]\n",
    ")"
   ]
  },
  {
   "cell_type": "code",
   "execution_count": 9,
   "metadata": {},
   "outputs": [],
   "source": [
    "weather_agent = Agent(\n",
    "    name='Weather Assistant',\n",
    "    instructions = 'You provide the weather information for a given location using the provided tool',\n",
    "    functions = [weather]\n",
    ")"
   ]
  },
  {
   "cell_type": "code",
   "execution_count": 15,
   "metadata": {},
   "outputs": [],
   "source": [
    "stock_agent = Agent(\n",
    "    name='Stock Price Assistant',\n",
    "    instructions = 'You provide the latest stock price for a given ticker using the provided tools',\n",
    "    functions = [stock_price]\n",
    ")"
   ]
  },
  {
   "cell_type": "code",
   "execution_count": 20,
   "metadata": {},
   "outputs": [
    {
     "name": "stdout",
     "output_type": "stream",
     "text": [
      "Running Manager Agent...\n",
      "Transferring you to weather agent...\n",
      "Transferring you to stock agent...\n",
      "Retrieving stock price for AAPL\n",
      "The latest stock price for AAPL is 227.52000427246094\n",
      "The latest stock price for Apple (AAPL) is $227.52.\n"
     ]
    }
   ],
   "source": [
    "print('Running Manager Agent...')\n",
    "response = client.run(\n",
    "    agent = manager_agent,\n",
    "    messages = [{\n",
    "        'role': 'user',\n",
    "        'content': 'Whats the weather in New York'\n",
    "    },\n",
    "                {\n",
    "        'role': 'user',\n",
    "        'content': 'Whats the latest stock price of apple'\n",
    "    }]\n",
    ")\n",
    "print(response.messages[-2]['content'])\n",
    "print(response.messages[-1]['content'])"
   ]
  }
 ],
 "metadata": {
  "kernelspec": {
   "display_name": "Python 3 (ipykernel)",
   "language": "python",
   "name": "python3"
  }
 },
 "nbformat": 4,
 "nbformat_minor": 2
}
